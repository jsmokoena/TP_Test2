{
 "cells": [
  {
   "cell_type": "code",
   "execution_count": 1,
   "id": "a1fea225",
   "metadata": {},
   "outputs": [],
   "source": [
    "import pandas as pd"
   ]
  },
  {
   "cell_type": "code",
   "execution_count": 2,
   "id": "7c1066cb",
   "metadata": {},
   "outputs": [],
   "source": [
    "df = pd.read_csv('cleaned_household_service_delivery_data.csv')"
   ]
  },
  {
   "cell_type": "code",
   "execution_count": 3,
   "id": "b533906f",
   "metadata": {},
   "outputs": [],
   "source": [
    "def insertion_sort(arr):\n",
    "    for i in range(1, len(arr)):\n",
    "        key = arr[i]\n",
    "        j = i - 1\n",
    "        while j >= 0 and arr[j] > key:\n",
    "            arr[j + 1] = arr[j]\n",
    "            j -= 1\n",
    "        arr[j + 1] = key\n",
    "    return arr"
   ]
  },
  {
   "cell_type": "code",
   "execution_count": 4,
   "id": "6e833498",
   "metadata": {},
   "outputs": [],
   "source": [
    "head_ages = df['Head_Age'].tolist()"
   ]
  },
  {
   "cell_type": "code",
   "execution_count": 5,
   "id": "af39968f",
   "metadata": {},
   "outputs": [],
   "source": [
    "sorted_head_ages = insertion_sort(head_ages)"
   ]
  },
  {
   "cell_type": "code",
   "execution_count": 6,
   "id": "d094e186",
   "metadata": {},
   "outputs": [],
   "source": [
    "df['Head_Age'] = sorted_head_ages"
   ]
  },
  {
   "cell_type": "code",
   "execution_count": 7,
   "id": "49a53d4f",
   "metadata": {},
   "outputs": [
    {
     "name": "stdout",
     "output_type": "stream",
     "text": [
      "   Household_ID  Household_Size  Head_Age Head_Gender    Region  \\\n",
      "0             1               1        18        Male  Region10   \n",
      "1             2               4        18        Male   Region2   \n",
      "2             3               7        18        Male   Region3   \n",
      "3             4               7        18        Male   Region8   \n",
      "4             5               1        18        Male   Region6   \n",
      "\n",
      "  Solid_Fuel_Usage Water_Access Sanitation_Access Housing_Type  \\\n",
      "0               No          Yes               Yes       Formal   \n",
      "1               No          Yes                No       Formal   \n",
      "2               No           No                No       Formal   \n",
      "3               No           No                No       Formal   \n",
      "4              Yes          Yes               Yes     Informal   \n",
      "\n",
      "  Satisfaction_Services Perceived_Quality Education_Level_Head   Latitude  \\\n",
      "0          Dissatisfied              Good              Primary -28.726463   \n",
      "1             Satisfied         Excellent              Primary -27.835596   \n",
      "2               Neutral              Poor             Tertiary -25.867070   \n",
      "3             Satisfied              Poor         No Education -27.997505   \n",
      "4          Dissatisfied              Poor            Secondary -29.724483   \n",
      "\n",
      "   Longitude  \n",
      "0  29.801959  \n",
      "1  30.849499  \n",
      "2  29.649159  \n",
      "3  27.709932  \n",
      "4  28.070850  \n"
     ]
    }
   ],
   "source": [
    "print(df.head())"
   ]
  },
  {
   "cell_type": "code",
   "execution_count": null,
   "id": "636fe487",
   "metadata": {},
   "outputs": [],
   "source": []
  }
 ],
 "metadata": {
  "kernelspec": {
   "display_name": "Python 3 (ipykernel)",
   "language": "python",
   "name": "python3"
  },
  "language_info": {
   "codemirror_mode": {
    "name": "ipython",
    "version": 3
   },
   "file_extension": ".py",
   "mimetype": "text/x-python",
   "name": "python",
   "nbconvert_exporter": "python",
   "pygments_lexer": "ipython3",
   "version": "3.11.7"
  }
 },
 "nbformat": 4,
 "nbformat_minor": 5
}
