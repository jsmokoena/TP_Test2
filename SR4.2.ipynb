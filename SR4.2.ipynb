{
 "cells": [
  {
   "cell_type": "markdown",
   "id": "d4770c6c",
   "metadata": {},
   "source": [
    "#### Linear Search:\n",
    "Linear search is a straightforward algorithm that checks each element in a list sequentially until the target element is found or the list ends. It is easy to implement and does not require the list to be sorted.\n",
    "\n",
    "**Time Complexity**:\n",
    "- Worst-case: O(n)\n",
    "- Best-case: O(1) (if the target is the first element)\n",
    "- Average-case: O(n/2) ≈ O(n)\n",
    "\n",
    "**When to Use**:\n",
    "- When the list is unsorted.\n",
    "- For small datasets where the overhead of sorting is not justified.\n",
    "\n",
    "**Advantages**:\n",
    "- Simple and intuitive.\n",
    "- No need for pre-processing (sorting) the data.\n",
    "\n",
    "**Disadvantages**:\n",
    "- Inefficient for large datasets.\n",
    "- Time complexity increases linearly with the number of elements.\n",
    "\n",
    "#### Binary Search:\n",
    "Binary search is an efficient algorithm that works on sorted lists. It repeatedly divides the search interval in half, reducing the time complexity significantly compared to linear search.\n",
    "\n",
    "**Time Complexity**:\n",
    "- Worst-case: O(log n)\n",
    "- Best-case: O(1) (if the target is the middle element)\n",
    "- Average-case: O(log n)\n",
    "\n",
    "**When to Use**:\n",
    "- When the list is sorted.\n",
    "- For large datasets where a faster search time is critical.\n",
    "\n",
    "**Advantages**:\n",
    "- Much faster than linear search for large datasets.\n",
    "- Time complexity grows logarithmically, making it suitable for large datasets.\n",
    "\n",
    "**Disadvantages**:\n",
    "- Requires the list to be sorted, which adds overhead if sorting is needed.\n",
    "- More complex to implement compared to linear search.\n",
    "\n",
    "**Summary**:\n",
    "Binary search performs faster than linear search, especially for large datasets, due to its logarithmic time complexity. While linear search has a time complexity of O(n), binary search operates in O(log n) time, making it significantly more efficient as the size of the dataset increases. However, the requirement for a sorted list means that the initial sorting step must be considered in the overall performance evaluation.\n",
    "\n",
    "In summary, if you have a large sorted dataset, binary search is the preferred method due to its superior performance. For smaller or unsorted datasets, linear search may be more appropriate due to its simplicity and lack of sorting requirement."
   ]
  },
  {
   "cell_type": "code",
   "execution_count": 1,
   "id": "3ee2c5d2",
   "metadata": {},
   "outputs": [],
   "source": [
    "import pandas as pd"
   ]
  },
  {
   "cell_type": "code",
   "execution_count": 2,
   "id": "e2f0c072",
   "metadata": {},
   "outputs": [],
   "source": [
    "df = pd.read_csv('cleaned_household_service_delivery_data.csv')"
   ]
  },
  {
   "cell_type": "code",
   "execution_count": 3,
   "id": "eba0ce8a",
   "metadata": {},
   "outputs": [],
   "source": [
    "def linear_search(arr, target):\n",
    "    for i, element in enumerate(arr):\n",
    "        if element == target:\n",
    "            return i\n",
    "    return -1\n",
    "\n",
    "def binary_search(arr, target):\n",
    "    left, right = 0, len(arr) - 1\n",
    "    while left <= right:\n",
    "        mid = (left + right) // 2\n",
    "        if arr[mid] == target:\n",
    "            return mid\n",
    "        elif arr[mid] < target:\n",
    "            left = mid + 1\n",
    "        else:\n",
    "            right = mid - 1\n",
    "    return -1"
   ]
  },
  {
   "cell_type": "code",
   "execution_count": 4,
   "id": "276ff898",
   "metadata": {},
   "outputs": [],
   "source": [
    "target_age = 45"
   ]
  },
  {
   "cell_type": "code",
   "execution_count": 5,
   "id": "6bce0048",
   "metadata": {},
   "outputs": [
    {
     "name": "stdout",
     "output_type": "stream",
     "text": [
      "Linear Search: Age 45 found at index 190\n"
     ]
    }
   ],
   "source": [
    "head_ages = df['Head_Age'].values\n",
    "linear_search_result = linear_search(head_ages, target_age)\n",
    "print(f\"Linear Search: Age {target_age} found at index {linear_search_result}\")"
   ]
  },
  {
   "cell_type": "code",
   "execution_count": 6,
   "id": "12452ebd",
   "metadata": {},
   "outputs": [
    {
     "name": "stdout",
     "output_type": "stream",
     "text": [
      "Binary Search: Age 45 found at index 467 in the sorted list\n"
     ]
    }
   ],
   "source": [
    "sorted_head_ages = sorted(head_ages)\n",
    "binary_search_result = binary_search(sorted_head_ages, target_age)\n",
    "print(f\"Binary Search: Age {target_age} found at index {binary_search_result} in the sorted list\")"
   ]
  },
  {
   "cell_type": "code",
   "execution_count": null,
   "id": "620c5528",
   "metadata": {},
   "outputs": [],
   "source": []
  }
 ],
 "metadata": {
  "kernelspec": {
   "display_name": "Python 3 (ipykernel)",
   "language": "python",
   "name": "python3"
  },
  "language_info": {
   "codemirror_mode": {
    "name": "ipython",
    "version": 3
   },
   "file_extension": ".py",
   "mimetype": "text/x-python",
   "name": "python",
   "nbconvert_exporter": "python",
   "pygments_lexer": "ipython3",
   "version": "3.11.7"
  }
 },
 "nbformat": 4,
 "nbformat_minor": 5
}
