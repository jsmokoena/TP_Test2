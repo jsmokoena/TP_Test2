{
 "cells": [
  {
   "cell_type": "code",
   "execution_count": 2,
   "id": "8b7915f3",
   "metadata": {},
   "outputs": [],
   "source": [
    "import pandas as pd"
   ]
  },
  {
   "cell_type": "code",
   "execution_count": 4,
   "id": "babbe4bb",
   "metadata": {},
   "outputs": [],
   "source": [
    "df = pd.read_csv(\"C:/Users/27792/household_service_delivery_data.csv\")"
   ]
  },
  {
   "cell_type": "code",
   "execution_count": 5,
   "id": "8ec853fd",
   "metadata": {},
   "outputs": [
    {
     "name": "stdout",
     "output_type": "stream",
     "text": [
      "First few rows of the dataset:\n",
      "   Household_ID  Household_Size  Head_Age Head_Gender    Region  \\\n",
      "0             1               1        39        Male  Region10   \n",
      "1             2               4        18        Male   Region2   \n",
      "2             3               7        60        Male   Region3   \n",
      "3             4               7        79        Male   Region8   \n",
      "4             5               1        19        Male   Region6   \n",
      "\n",
      "  Solid_Fuel_Usage Water_Access Sanitation_Access Housing_Type  \\\n",
      "0               No          Yes               Yes       Formal   \n",
      "1               No          Yes                No       Formal   \n",
      "2               No           No                No       Formal   \n",
      "3               No           No                No       Formal   \n",
      "4              Yes          Yes               Yes     Informal   \n",
      "\n",
      "  Satisfaction_Services Perceived_Quality Education_Level_Head   Latitude  \\\n",
      "0          Dissatisfied              Good              Primary -28.726463   \n",
      "1             Satisfied         Excellent              Primary -27.835596   \n",
      "2               Neutral              Poor             Tertiary -25.867070   \n",
      "3             Satisfied              Poor         No Education -27.997505   \n",
      "4          Dissatisfied              Poor            Secondary -29.724483   \n",
      "\n",
      "   Longitude  \n",
      "0  29.801959  \n",
      "1  30.849499  \n",
      "2  29.649159  \n",
      "3  27.709932  \n",
      "4  28.070850  \n"
     ]
    }
   ],
   "source": [
    "print(\"First few rows of the dataset:\")\n",
    "print(df.head())"
   ]
  },
  {
   "cell_type": "code",
   "execution_count": 6,
   "id": "af722692",
   "metadata": {},
   "outputs": [
    {
     "name": "stdout",
     "output_type": "stream",
     "text": [
      "\n",
      "Size of the dataset (rows, columns):\n",
      "(1000, 14)\n"
     ]
    }
   ],
   "source": [
    "print(\"\\nSize of the dataset (rows, columns):\")\n",
    "print(df.shape)"
   ]
  },
  {
   "cell_type": "code",
   "execution_count": 7,
   "id": "f43bdada",
   "metadata": {},
   "outputs": [
    {
     "name": "stdout",
     "output_type": "stream",
     "text": [
      "\n",
      "Data types of each column:\n",
      "Household_ID               int64\n",
      "Household_Size             int64\n",
      "Head_Age                   int64\n",
      "Head_Gender               object\n",
      "Region                    object\n",
      "Solid_Fuel_Usage          object\n",
      "Water_Access              object\n",
      "Sanitation_Access         object\n",
      "Housing_Type              object\n",
      "Satisfaction_Services     object\n",
      "Perceived_Quality         object\n",
      "Education_Level_Head      object\n",
      "Latitude                 float64\n",
      "Longitude                float64\n",
      "dtype: object\n"
     ]
    }
   ],
   "source": [
    "print(\"\\nData types of each column:\")\n",
    "print(df.dtypes)"
   ]
  },
  {
   "cell_type": "code",
   "execution_count": 8,
   "id": "58148c61",
   "metadata": {},
   "outputs": [
    {
     "name": "stdout",
     "output_type": "stream",
     "text": [
      "\n",
      "Summary statistics of the dataset:\n",
      "        Household_ID  Household_Size     Head_Age Head_Gender   Region  \\\n",
      "count    1000.000000     1000.000000  1000.000000        1000     1000   \n",
      "unique           NaN             NaN          NaN           2       10   \n",
      "top              NaN             NaN          NaN      Female  Region5   \n",
      "freq             NaN             NaN          NaN         504      108   \n",
      "mean      500.500000        4.114000    47.565000         NaN      NaN   \n",
      "std       288.819436        1.961849    17.763088         NaN      NaN   \n",
      "min         1.000000        1.000000    18.000000         NaN      NaN   \n",
      "25%       250.750000        2.000000    32.000000         NaN      NaN   \n",
      "50%       500.500000        4.000000    47.000000         NaN      NaN   \n",
      "75%       750.250000        6.000000    63.000000         NaN      NaN   \n",
      "max      1000.000000        7.000000    79.000000         NaN      NaN   \n",
      "\n",
      "       Solid_Fuel_Usage Water_Access Sanitation_Access Housing_Type  \\\n",
      "count              1000         1000              1000         1000   \n",
      "unique                2            2                 2            2   \n",
      "top                  No          Yes                No       Formal   \n",
      "freq                501          520               512          506   \n",
      "mean                NaN          NaN               NaN          NaN   \n",
      "std                 NaN          NaN               NaN          NaN   \n",
      "min                 NaN          NaN               NaN          NaN   \n",
      "25%                 NaN          NaN               NaN          NaN   \n",
      "50%                 NaN          NaN               NaN          NaN   \n",
      "75%                 NaN          NaN               NaN          NaN   \n",
      "max                 NaN          NaN               NaN          NaN   \n",
      "\n",
      "       Satisfaction_Services Perceived_Quality Education_Level_Head  \\\n",
      "count                   1000              1000                 1000   \n",
      "unique                     3                 4                    4   \n",
      "top                  Neutral              Poor            Secondary   \n",
      "freq                     345               268                  253   \n",
      "mean                     NaN               NaN                  NaN   \n",
      "std                      NaN               NaN                  NaN   \n",
      "min                      NaN               NaN                  NaN   \n",
      "25%                      NaN               NaN                  NaN   \n",
      "50%                      NaN               NaN                  NaN   \n",
      "75%                      NaN               NaN                  NaN   \n",
      "max                      NaN               NaN                  NaN   \n",
      "\n",
      "           Latitude    Longitude  \n",
      "count   1000.000000  1000.000000  \n",
      "unique          NaN          NaN  \n",
      "top             NaN          NaN  \n",
      "freq            NaN          NaN  \n",
      "mean     -27.488772    29.543833  \n",
      "std        1.457189     1.450907  \n",
      "min      -29.993133    27.000170  \n",
      "25%      -28.766501    28.274119  \n",
      "50%      -27.435716    29.528971  \n",
      "75%      -26.261979    30.831150  \n",
      "max      -25.008213    31.997434  \n"
     ]
    }
   ],
   "source": [
    "print(\"\\nSummary statistics of the dataset:\")\n",
    "print(df.describe(include='all'))"
   ]
  },
  {
   "cell_type": "code",
   "execution_count": 9,
   "id": "612fb570",
   "metadata": {},
   "outputs": [
    {
     "name": "stdout",
     "output_type": "stream",
     "text": [
      "\n",
      "Missing values in each column:\n",
      "Household_ID             0\n",
      "Household_Size           0\n",
      "Head_Age                 0\n",
      "Head_Gender              0\n",
      "Region                   0\n",
      "Solid_Fuel_Usage         0\n",
      "Water_Access             0\n",
      "Sanitation_Access        0\n",
      "Housing_Type             0\n",
      "Satisfaction_Services    0\n",
      "Perceived_Quality        0\n",
      "Education_Level_Head     0\n",
      "Latitude                 0\n",
      "Longitude                0\n",
      "dtype: int64\n"
     ]
    }
   ],
   "source": [
    "print(\"\\nMissing values in each column:\")\n",
    "print(df.isnull().sum())"
   ]
  },
  {
   "cell_type": "code",
   "execution_count": 10,
   "id": "998d3909",
   "metadata": {},
   "outputs": [],
   "source": [
    "df.to_csv('cleaned_household_service_delivery_data.csv', index=False)"
   ]
  },
  {
   "cell_type": "code",
   "execution_count": 11,
   "id": "b3950a4c",
   "metadata": {},
   "outputs": [
    {
     "name": "stdout",
     "output_type": "stream",
     "text": [
      "\n",
      "Info of the cleaned dataset:\n",
      "<class 'pandas.core.frame.DataFrame'>\n",
      "RangeIndex: 1000 entries, 0 to 999\n",
      "Data columns (total 14 columns):\n",
      " #   Column                 Non-Null Count  Dtype  \n",
      "---  ------                 --------------  -----  \n",
      " 0   Household_ID           1000 non-null   int64  \n",
      " 1   Household_Size         1000 non-null   int64  \n",
      " 2   Head_Age               1000 non-null   int64  \n",
      " 3   Head_Gender            1000 non-null   object \n",
      " 4   Region                 1000 non-null   object \n",
      " 5   Solid_Fuel_Usage       1000 non-null   object \n",
      " 6   Water_Access           1000 non-null   object \n",
      " 7   Sanitation_Access      1000 non-null   object \n",
      " 8   Housing_Type           1000 non-null   object \n",
      " 9   Satisfaction_Services  1000 non-null   object \n",
      " 10  Perceived_Quality      1000 non-null   object \n",
      " 11  Education_Level_Head   1000 non-null   object \n",
      " 12  Latitude               1000 non-null   float64\n",
      " 13  Longitude              1000 non-null   float64\n",
      "dtypes: float64(2), int64(3), object(9)\n",
      "memory usage: 109.5+ KB\n",
      "None\n"
     ]
    }
   ],
   "source": [
    "print(\"\\nInfo of the cleaned dataset:\")\n",
    "print(df.info())"
   ]
  },
  {
   "cell_type": "code",
   "execution_count": 12,
   "id": "6df0ad63",
   "metadata": {},
   "outputs": [],
   "source": [
    "#Numerical Data: Continuous values that can be used directly for many machine learning algorithms.\n",
    "\n",
    "#Categorical Data: Discrete values that can be converted to numerical values using techniques such as one-hot encoding."
   ]
  },
  {
   "cell_type": "code",
   "execution_count": null,
   "id": "4f1996c8",
   "metadata": {},
   "outputs": [],
   "source": []
  }
 ],
 "metadata": {
  "kernelspec": {
   "display_name": "Python 3 (ipykernel)",
   "language": "python",
   "name": "python3"
  },
  "language_info": {
   "codemirror_mode": {
    "name": "ipython",
    "version": 3
   },
   "file_extension": ".py",
   "mimetype": "text/x-python",
   "name": "python",
   "nbconvert_exporter": "python",
   "pygments_lexer": "ipython3",
   "version": "3.11.7"
  }
 },
 "nbformat": 4,
 "nbformat_minor": 5
}
