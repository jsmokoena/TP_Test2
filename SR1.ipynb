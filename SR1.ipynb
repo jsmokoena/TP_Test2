{
 "cells": [
  {
   "cell_type": "markdown",
   "id": "72719b0a",
   "metadata": {},
   "source": [
    "I CREATED THIS DATASET \n",
    "\n",
    "Using the information that I was given on the Question paper I mananged to use some AI tools to come up with the dataset."
   ]
  },
  {
   "cell_type": "code",
   "execution_count": 4,
   "id": "9dfe15d1",
   "metadata": {},
   "outputs": [],
   "source": [
    "import pandas as pd"
   ]
  },
  {
   "cell_type": "code",
   "execution_count": 55,
   "id": "c1daa1f3",
   "metadata": {},
   "outputs": [
    {
     "name": "stdout",
     "output_type": "stream",
     "text": [
      "First few rows of the dataset:\n",
      "   Household_ID  Household_Size  Head_Age Head_Gender    Region  \\\n",
      "0             1               1        39        Male  Region10   \n",
      "1             2               4        18        Male   Region2   \n",
      "2             3               7        60        Male   Region3   \n",
      "3             4               7        79        Male   Region8   \n",
      "4             5               1        19        Male   Region6   \n",
      "\n",
      "  Solid_Fuel_Usage Water_Access Sanitation_Access Housing_Type  \\\n",
      "0               No          Yes               Yes       Formal   \n",
      "1               No          Yes                No       Formal   \n",
      "2               No           No                No       Formal   \n",
      "3               No           No                No       Formal   \n",
      "4              Yes          Yes               Yes     Informal   \n",
      "\n",
      "  Satisfaction_Services Perceived_Quality Education_Level_Head   Latitude  \\\n",
      "0          Dissatisfied              Good              Primary -28.726463   \n",
      "1             Satisfied         Excellent              Primary -27.835596   \n",
      "2               Neutral              Poor             Tertiary -25.867070   \n",
      "3             Satisfied              Poor         No Education -27.997505   \n",
      "4          Dissatisfied              Poor            Secondary -29.724483   \n",
      "\n",
      "   Longitude  \n",
      "0  29.801959  \n",
      "1  30.849499  \n",
      "2  29.649159  \n",
      "3  27.709932  \n",
      "4  28.070850  \n"
     ]
    }
   ],
   "source": [
    "df = pd.read_csv(\"C:/Users/27792/household_service_delivery_data.csv\")"
   ]
  },
  {
   "cell_type": "code",
   "execution_count": 56,
   "id": "afbb5b43",
   "metadata": {},
   "outputs": [
    {
     "name": "stdout",
     "output_type": "stream",
     "text": [
      "\n",
      "Size of the dataset (rows, columns):\n",
      "(1000, 14)\n"
     ]
    }
   ],
   "source": [
    "print(\"First few rows of the dataset:\")\n",
    "print(df.head())"
   ]
  },
  {
   "cell_type": "code",
   "execution_count": 57,
   "id": "d20b758c",
   "metadata": {},
   "outputs": [
    {
     "name": "stdout",
     "output_type": "stream",
     "text": [
      "\n",
      "Data types of each column:\n",
      "Household_ID               int64\n",
      "Household_Size             int64\n",
      "Head_Age                   int64\n",
      "Head_Gender               object\n",
      "Region                    object\n",
      "Solid_Fuel_Usage          object\n",
      "Water_Access              object\n",
      "Sanitation_Access         object\n",
      "Housing_Type              object\n",
      "Satisfaction_Services     object\n",
      "Perceived_Quality         object\n",
      "Education_Level_Head      object\n",
      "Latitude                 float64\n",
      "Longitude                float64\n",
      "dtype: object\n"
     ]
    }
   ],
   "source": [
    "print(\"\\nSize of the dataset (rows, columns):\")\n",
    "print(df.shape)"
   ]
  },
  {
   "cell_type": "code",
   "execution_count": null,
   "id": "993be134",
   "metadata": {},
   "outputs": [],
   "source": [
    "print(\"\\nData types of each column:\")\n",
    "print(df.dtypes)"
   ]
  }
 ],
 "metadata": {
  "kernelspec": {
   "display_name": "Python 3 (ipykernel)",
   "language": "python",
   "name": "python3"
  },
  "language_info": {
   "codemirror_mode": {
    "name": "ipython",
    "version": 3
   },
   "file_extension": ".py",
   "mimetype": "text/x-python",
   "name": "python",
   "nbconvert_exporter": "python",
   "pygments_lexer": "ipython3",
   "version": "3.11.7"
  }
 },
 "nbformat": 4,
 "nbformat_minor": 5
}
